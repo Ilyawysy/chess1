{
 "cells": [
  {
   "cell_type": "code",
   "execution_count": 18,
   "id": "cb0be705",
   "metadata": {},
   "outputs": [
    {
     "name": "stdout",
     "output_type": "stream",
     "text": [
      "  factorial(5)\n",
      "    factorial(4)\n",
      "      factorial(3)\n",
      "        factorial(2)\n",
      "          factorial(1)\n",
      "\n"
     ]
    }
   ],
   "source": [
    "c = 1\n",
    "def factorial(n):\n",
    "    global c\n",
    "    c += 1\n",
    "    if n == 0:\n",
    "        return ''\n",
    "    print(f'{\"  \" * (c - 1)}factorial({n})')\n",
    "    return factorial(n - 1)\n",
    "print(factorial(5))"
   ]
  },
  {
   "cell_type": "markdown",
   "id": "53679b07",
   "metadata": {},
   "source": [
    "1.2) Реализовать функции printIn(s) и printOut(s), которые выводят строки s\n",
    "с отступами, при этом каждый вывод printIn(s) приводит к увеличению\n",
    "отсутпа, а каждый вывод printOut(s) приводит к уменьшению отсутпа."
   ]
  },
  {
   "cell_type": "code",
   "execution_count": 51,
   "id": "9fbe9c36",
   "metadata": {},
   "outputs": [
    {
     "ename": "SyntaxError",
     "evalue": "name 's' is parameter and global (1780156932.py, line 3)",
     "output_type": "error",
     "traceback": [
      "\u001b[1;36m  Input \u001b[1;32mIn [51]\u001b[1;36m\u001b[0m\n\u001b[1;33m    global s\u001b[0m\n\u001b[1;37m    ^\u001b[0m\n\u001b[1;31mSyntaxError\u001b[0m\u001b[1;31m:\u001b[0m name 's' is parameter and global\n"
     ]
    }
   ],
   "source": [
    "def printIn(s):\n",
    "    if type(s) == str:\n",
    "        global s\n",
    "        s = ' ' + s\n",
    "        print(s[0])\n",
    "    else:\n",
    "        return 's must be type str'\n",
    "    return s\n",
    "\n",
    "def printOut(s):\n",
    "    if type(s) == str:\n",
    "        if s[0] == ' ':\n",
    "            global s\n",
    "            s = s[1:]\n",
    "    return s"
   ]
  },
  {
   "cell_type": "code",
   "execution_count": 49,
   "id": "f29f9de2",
   "metadata": {
    "scrolled": true
   },
   "outputs": [
    {
     "name": "stdout",
     "output_type": "stream",
     "text": [
      "12345\n",
      " \n",
      " 12345\n"
     ]
    }
   ],
   "source": [
    "st = '12345'\n",
    "print(s)\n",
    "print(printIn(s))\n",
    "# print(printIn(s))\n",
    "# print(printIn(s))\n",
    "# print(printIn(s))"
   ]
  },
  {
   "cell_type": "markdown",
   "id": "7843497d",
   "metadata": {},
   "source": [
    "1.3) С использованием printIn(s) и printOut(s) реализовать отладочный\n",
    "вывод работы factorial(n) как для вызовов функций, так и для\n",
    "возвращаемых значений."
   ]
  },
  {
   "cell_type": "code",
   "execution_count": 60,
   "id": "bf0b3f82",
   "metadata": {},
   "outputs": [
    {
     "name": "stdout",
     "output_type": "stream",
     "text": [
      "factorial(4)\n",
      "  factorial(3)\n",
      "    factorial(2)\n",
      "      factorial(1)\n",
      "        factorial(0)\n",
      "        1\n",
      "      1\n",
      "    2\n",
      "  6\n",
      "24\n"
     ]
    },
    {
     "data": {
      "text/plain": [
       "24"
      ]
     },
     "execution_count": 60,
     "metadata": {},
     "output_type": "execute_result"
    }
   ],
   "source": [
    "count = 0\n",
    "\n",
    "def factorial(n):\n",
    "    global count\n",
    "    print(\"  \" * (count) + \"factorial({})\".format(n))\n",
    "    count += 1\n",
    "    if n == 0:\n",
    "        result = 1\n",
    "    else:\n",
    "        result = n * factorial(n-1)\n",
    "    count -= 1\n",
    "    print(\"  \" * (count) + str(result))\n",
    "    return result\n",
    "\n",
    "factorial(4)"
   ]
  },
  {
   "cell_type": "markdown",
   "id": "f5c41589",
   "metadata": {},
   "source": [
    "2) Рекурсивно реализовать функцию fib(n) вычисляющую значение n-го\n",
    "числа Фибоначи. Учесть возможность вычисления числа с отрицательным\n",
    "индексом."
   ]
  },
  {
   "cell_type": "code",
   "execution_count": 1,
   "id": "7c1bd2d5",
   "metadata": {},
   "outputs": [],
   "source": [
    "c = 2\n",
    "fib_nums = [0, 1]\n",
    "def fib(n):\n",
    "    rem = n\n",
    "    global c, fib_nums\n",
    "    if n < 0:\n",
    "        c = 0\n",
    "        while n == 0:\n",
    "            n += 1\n",
    "            fib_nums.insert(0, fib_nums[c] - fib_nums[c + 1])\n",
    "        print(fib_nums)\n",
    "    if n == 0:\n",
    "        if rem >= 0:\n",
    "            return fib_nums[-1]\n",
    "        else:\n",
    "            return fib_nums[0]\n",
    "    fib_nums.append(fib_nums[c - 2] + fib_nums[c - 1])\n",
    "    c += 1\n",
    "    return fib(n - 1)"
   ]
  },
  {
   "cell_type": "code",
   "execution_count": null,
   "id": "7a9a4e3c",
   "metadata": {},
   "outputs": [],
   "source": [
    "print(fib(-2))"
   ]
  },
  {
   "cell_type": "code",
   "execution_count": null,
   "id": "6af4019a",
   "metadata": {},
   "outputs": [],
   "source": [
    "def fib(n):\n",
    "    rem = n\n",
    "    c = 1\n",
    "    if rem = c:\n",
    "        return 'cf'\n",
    "    fib1 = 0\n",
    "    fib2 = 1\n",
    "    new_fib = fib1 + fib2"
   ]
  }
 ],
 "metadata": {
  "kernelspec": {
   "display_name": "Python 3 (ipykernel)",
   "language": "python",
   "name": "python3"
  },
  "language_info": {
   "codemirror_mode": {
    "name": "ipython",
    "version": 3
   },
   "file_extension": ".py",
   "mimetype": "text/x-python",
   "name": "python",
   "nbconvert_exporter": "python",
   "pygments_lexer": "ipython3",
   "version": "3.9.12"
  }
 },
 "nbformat": 4,
 "nbformat_minor": 5
}
